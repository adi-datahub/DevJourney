{
 "cells": [
  {
   "cell_type": "code",
   "execution_count": 237,
   "id": "a79bf06f",
   "metadata": {},
   "outputs": [],
   "source": [
    "student_name= 'aditya agarwal'\n",
    "student_id= '46184821'"
   ]
  },
  {
   "cell_type": "markdown",
   "id": "e4aef348",
   "metadata": {},
   "source": [
    "## Portfolio Part 3"
   ]
  },
  {
   "cell_type": "markdown",
   "id": "0619c315",
   "metadata": {},
   "source": [
    "In this Portfolio task, you will continue working with the dataset you have used in portfolio 2. But the difference is that the rating column has been changed with like or dislike values. Your task is to train classification models to predict whether a user like or dislike an item.  \n",
    "\n",
    "\n",
    "The header of the csv file is shown below. \n",
    "\n",
    "| userId | timestamp | review | item| rating | helpfulness | gender | category |\n",
    "    | ---- | ---- | ---- | ---- | ---- | ---- | ---- | ---- | \n",
    "    \n",
    "#### Description of Fields\n",
    "\n",
    "* __userId__ - the user's id\n",
    "* __timestamp__ - the timestamp indicating when the user rated the shopping item\n",
    "* __review__ - the user's review comments of the item\n",
    "* __item__ - the name of the item\n",
    "* __rating__ - the user like or dislike the item\n",
    "* __helpfulness__ - average rating from other users on whether the review comment is helpful. 6-helpful, 0-not helpful. \n",
    "* __gender__ - the gender of the user, F- female, M-male\n",
    "* __category__ - the category of the shopping item\n",
    "\n",
    "\n",
    "Your high level goal in this notebook is to try to build and evaluate predictive models for 'rating' from other available features - predict the value of the __rating__ field in the data from some of the other fields. More specifically, you need to complete the following major steps: \n",
    "1) Explore the data. Clean the data if necessary. For example, remove abnormal instanaces and replace missing values.\n",
    "2) Convert object features into digit features by using an encoder\n",
    "3) Study the correlation between these features. \n",
    "4) Split the dataset and train a logistic regression model to predict 'rating' based on other features. Evaluate the accuracy of your model.\n",
    "5) Split the dataset and train a KNN model to predict 'rating' based on other features. You can set K with an ad-hoc manner in this step. Evaluate the accuracy of your model.\n",
    "6) Tune the hyper-parameter K in KNN to see how it influences the prediction performance\n",
    "\n",
    "Note 1: We did not provide any description of each step in the notebook. You should learn how to properly comment your notebook by yourself to make your notebook file readable. \n",
    "\n",
    "Note 2: you are not being evaluated on the ___accuracy___ of the model but on the ___process___ that you use to generate it. Please use both ___Logistic Regression model___ and ___KNN model___ for solving this classification problem. Accordingly, discuss the performance of these two methods."
   ]
  },
  {
   "cell_type": "code",
   "execution_count": 238,
   "id": "47be0d08",
   "metadata": {},
   "outputs": [],
   "source": [
    "# importing all libraries \n",
    "\n",
    "import pandas as pd\n",
    "import numpy as np\n",
    "import seaborn as sns\n",
    "import matplotlib.pyplot as plt\n",
    "%matplotlib inline\n",
    "\n",
    "from sklearn.model_selection import train_test_split\n",
    "from sklearn import linear_model\n",
    "from sklearn.metrics import r2_score, mean_squared_error\n",
    "from sklearn.linear_model import LogisticRegression\n",
    "from sklearn.metrics import confusion_matrix, accuracy_score\n",
    "from sklearn.feature_selection import RFE\n",
    "from sklearn.cluster import KMeans\n",
    "from sklearn.metrics import pairwise_distances\n",
    "from sklearn.feature_extraction.text import TfidfVectorizer\n",
    "from sklearn.preprocessing import OrdinalEncoder\n",
    "from sklearn.datasets import make_classification\n",
    "from sklearn.neighbors import KNeighborsClassifier\n",
    "from sklearn.metrics import accuracy_score\n",
    "from sklearn.model_selection import cross_val_score\n",
    "from sklearn.model_selection import GridSearchCV\n",
    "from scipy.cluster.hierarchy import linkage, dendrogram, cut_tree\n",
    "from scipy.spatial.distance import pdist \n",
    "\n",
    "\n",
    "import warnings\n",
    "warnings.filterwarnings('ignore')"
   ]
  },
  {
   "cell_type": "code",
   "execution_count": 239,
   "id": "84c57251",
   "metadata": {},
   "outputs": [
    {
     "data": {
      "text/html": [
       "<div>\n",
       "<style scoped>\n",
       "    .dataframe tbody tr th:only-of-type {\n",
       "        vertical-align: middle;\n",
       "    }\n",
       "\n",
       "    .dataframe tbody tr th {\n",
       "        vertical-align: top;\n",
       "    }\n",
       "\n",
       "    .dataframe thead th {\n",
       "        text-align: right;\n",
       "    }\n",
       "</style>\n",
       "<table border=\"1\" class=\"dataframe\">\n",
       "  <thead>\n",
       "    <tr style=\"text-align: right;\">\n",
       "      <th></th>\n",
       "      <th>userId</th>\n",
       "      <th>timestamp</th>\n",
       "      <th>review</th>\n",
       "      <th>item</th>\n",
       "      <th>rating</th>\n",
       "      <th>helpfulness</th>\n",
       "      <th>gender</th>\n",
       "      <th>category</th>\n",
       "    </tr>\n",
       "  </thead>\n",
       "  <tbody>\n",
       "    <tr>\n",
       "      <th>0</th>\n",
       "      <td>4259</td>\n",
       "      <td>11900</td>\n",
       "      <td>Finally, Something for (Relatively) Nothing</td>\n",
       "      <td>MyPoints.com</td>\n",
       "      <td>like</td>\n",
       "      <td>4</td>\n",
       "      <td>F</td>\n",
       "      <td>Online Stores &amp; Services</td>\n",
       "    </tr>\n",
       "    <tr>\n",
       "      <th>1</th>\n",
       "      <td>4259</td>\n",
       "      <td>12000</td>\n",
       "      <td>Shocking!</td>\n",
       "      <td>Sixth Sense</td>\n",
       "      <td>like</td>\n",
       "      <td>4</td>\n",
       "      <td>F</td>\n",
       "      <td>Movies</td>\n",
       "    </tr>\n",
       "    <tr>\n",
       "      <th>2</th>\n",
       "      <td>4259</td>\n",
       "      <td>12000</td>\n",
       "      <td>Simply Shaggadelic!</td>\n",
       "      <td>Austin Powers: The Spy Who Shagged Me</td>\n",
       "      <td>like</td>\n",
       "      <td>4</td>\n",
       "      <td>F</td>\n",
       "      <td>Movies</td>\n",
       "    </tr>\n",
       "    <tr>\n",
       "      <th>3</th>\n",
       "      <td>4259</td>\n",
       "      <td>12000</td>\n",
       "      <td>Better Than The First!</td>\n",
       "      <td>Toy Story 2</td>\n",
       "      <td>like</td>\n",
       "      <td>3</td>\n",
       "      <td>F</td>\n",
       "      <td>Movies</td>\n",
       "    </tr>\n",
       "    <tr>\n",
       "      <th>4</th>\n",
       "      <td>4259</td>\n",
       "      <td>12000</td>\n",
       "      <td>Blair Witch made me appreciate this</td>\n",
       "      <td>Star Wars Episode I: The Phantom Menace</td>\n",
       "      <td>dislike</td>\n",
       "      <td>4</td>\n",
       "      <td>F</td>\n",
       "      <td>Movies</td>\n",
       "    </tr>\n",
       "    <tr>\n",
       "      <th>5</th>\n",
       "      <td>4259</td>\n",
       "      <td>12100</td>\n",
       "      <td>Come here at least once in your life... stay a...</td>\n",
       "      <td>New York City</td>\n",
       "      <td>like</td>\n",
       "      <td>4</td>\n",
       "      <td>F</td>\n",
       "      <td>Hotels &amp; Travel</td>\n",
       "    </tr>\n",
       "    <tr>\n",
       "      <th>6</th>\n",
       "      <td>4259</td>\n",
       "      <td>12400</td>\n",
       "      <td>I joined for the free camera, and stood for no...</td>\n",
       "      <td>Earthlink</td>\n",
       "      <td>like</td>\n",
       "      <td>3</td>\n",
       "      <td>F</td>\n",
       "      <td>Online Stores &amp; Services</td>\n",
       "    </tr>\n",
       "    <tr>\n",
       "      <th>7</th>\n",
       "      <td>4259</td>\n",
       "      <td>12700</td>\n",
       "      <td>They Should've Fooled the American Public</td>\n",
       "      <td>Blair Witch Project</td>\n",
       "      <td>dislike</td>\n",
       "      <td>4</td>\n",
       "      <td>F</td>\n",
       "      <td>Movies</td>\n",
       "    </tr>\n",
       "    <tr>\n",
       "      <th>8</th>\n",
       "      <td>4259</td>\n",
       "      <td>51600</td>\n",
       "      <td>A Short List of Things to Remember in NYC</td>\n",
       "      <td>New York City</td>\n",
       "      <td>like</td>\n",
       "      <td>4</td>\n",
       "      <td>F</td>\n",
       "      <td>Hotels &amp; Travel</td>\n",
       "    </tr>\n",
       "    <tr>\n",
       "      <th>9</th>\n",
       "      <td>4259</td>\n",
       "      <td>60200</td>\n",
       "      <td>Do you know what a metaphysical can of worms t...</td>\n",
       "      <td>Being John Malkovich</td>\n",
       "      <td>like</td>\n",
       "      <td>4</td>\n",
       "      <td>F</td>\n",
       "      <td>Movies</td>\n",
       "    </tr>\n",
       "  </tbody>\n",
       "</table>\n",
       "</div>"
      ],
      "text/plain": [
       "   userId  timestamp                                             review  \\\n",
       "0    4259      11900        Finally, Something for (Relatively) Nothing   \n",
       "1    4259      12000                                          Shocking!   \n",
       "2    4259      12000                                Simply Shaggadelic!   \n",
       "3    4259      12000                             Better Than The First!   \n",
       "4    4259      12000                Blair Witch made me appreciate this   \n",
       "5    4259      12100  Come here at least once in your life... stay a...   \n",
       "6    4259      12400  I joined for the free camera, and stood for no...   \n",
       "7    4259      12700          They Should've Fooled the American Public   \n",
       "8    4259      51600          A Short List of Things to Remember in NYC   \n",
       "9    4259      60200  Do you know what a metaphysical can of worms t...   \n",
       "\n",
       "                                      item   rating  helpfulness gender  \\\n",
       "0                             MyPoints.com     like            4      F   \n",
       "1                              Sixth Sense     like            4      F   \n",
       "2    Austin Powers: The Spy Who Shagged Me     like            4      F   \n",
       "3                              Toy Story 2     like            3      F   \n",
       "4  Star Wars Episode I: The Phantom Menace  dislike            4      F   \n",
       "5                            New York City     like            4      F   \n",
       "6                                Earthlink     like            3      F   \n",
       "7                      Blair Witch Project  dislike            4      F   \n",
       "8                            New York City     like            4      F   \n",
       "9                     Being John Malkovich     like            4      F   \n",
       "\n",
       "                   category  \n",
       "0  Online Stores & Services  \n",
       "1                    Movies  \n",
       "2                    Movies  \n",
       "3                    Movies  \n",
       "4                    Movies  \n",
       "5           Hotels & Travel  \n",
       "6  Online Stores & Services  \n",
       "7                    Movies  \n",
       "8           Hotels & Travel  \n",
       "9                    Movies  "
      ]
     },
     "execution_count": 239,
     "metadata": {},
     "output_type": "execute_result"
    }
   ],
   "source": [
    "# read the data file (.csv format)\n",
    "df = pd.read_csv('Portfolio 3.csv')\n",
    "\n",
    "# printing the first ten rows of the dataset\n",
    "df.head(10)"
   ]
  },
  {
   "cell_type": "code",
   "execution_count": 240,
   "id": "bea32e93",
   "metadata": {},
   "outputs": [
    {
     "data": {
      "text/html": [
       "<div>\n",
       "<style scoped>\n",
       "    .dataframe tbody tr th:only-of-type {\n",
       "        vertical-align: middle;\n",
       "    }\n",
       "\n",
       "    .dataframe tbody tr th {\n",
       "        vertical-align: top;\n",
       "    }\n",
       "\n",
       "    .dataframe thead th {\n",
       "        text-align: right;\n",
       "    }\n",
       "</style>\n",
       "<table border=\"1\" class=\"dataframe\">\n",
       "  <thead>\n",
       "    <tr style=\"text-align: right;\">\n",
       "      <th></th>\n",
       "      <th>userId</th>\n",
       "      <th>timestamp</th>\n",
       "      <th>review</th>\n",
       "      <th>item</th>\n",
       "      <th>rating</th>\n",
       "      <th>helpfulness</th>\n",
       "      <th>gender</th>\n",
       "      <th>category</th>\n",
       "    </tr>\n",
       "  </thead>\n",
       "  <tbody>\n",
       "    <tr>\n",
       "      <th>0</th>\n",
       "      <td>4259</td>\n",
       "      <td>11900</td>\n",
       "      <td>Finally, Something for (Relatively) Nothing</td>\n",
       "      <td>MyPoints.com</td>\n",
       "      <td>like</td>\n",
       "      <td>4</td>\n",
       "      <td>F</td>\n",
       "      <td>Online Stores &amp; Services</td>\n",
       "    </tr>\n",
       "    <tr>\n",
       "      <th>1</th>\n",
       "      <td>4259</td>\n",
       "      <td>12000</td>\n",
       "      <td>Shocking!</td>\n",
       "      <td>Sixth Sense</td>\n",
       "      <td>like</td>\n",
       "      <td>4</td>\n",
       "      <td>F</td>\n",
       "      <td>Movies</td>\n",
       "    </tr>\n",
       "    <tr>\n",
       "      <th>2</th>\n",
       "      <td>4259</td>\n",
       "      <td>12000</td>\n",
       "      <td>Simply Shaggadelic!</td>\n",
       "      <td>Austin Powers: The Spy Who Shagged Me</td>\n",
       "      <td>like</td>\n",
       "      <td>4</td>\n",
       "      <td>F</td>\n",
       "      <td>Movies</td>\n",
       "    </tr>\n",
       "    <tr>\n",
       "      <th>3</th>\n",
       "      <td>4259</td>\n",
       "      <td>12000</td>\n",
       "      <td>Better Than The First!</td>\n",
       "      <td>Toy Story 2</td>\n",
       "      <td>like</td>\n",
       "      <td>3</td>\n",
       "      <td>F</td>\n",
       "      <td>Movies</td>\n",
       "    </tr>\n",
       "    <tr>\n",
       "      <th>4</th>\n",
       "      <td>4259</td>\n",
       "      <td>12000</td>\n",
       "      <td>Blair Witch made me appreciate this</td>\n",
       "      <td>Star Wars Episode I: The Phantom Menace</td>\n",
       "      <td>dislike</td>\n",
       "      <td>4</td>\n",
       "      <td>F</td>\n",
       "      <td>Movies</td>\n",
       "    </tr>\n",
       "    <tr>\n",
       "      <th>...</th>\n",
       "      <td>...</td>\n",
       "      <td>...</td>\n",
       "      <td>...</td>\n",
       "      <td>...</td>\n",
       "      <td>...</td>\n",
       "      <td>...</td>\n",
       "      <td>...</td>\n",
       "      <td>...</td>\n",
       "    </tr>\n",
       "    <tr>\n",
       "      <th>2894</th>\n",
       "      <td>10815</td>\n",
       "      <td>112799</td>\n",
       "      <td>I dare you to sleep through this soon to be cl...</td>\n",
       "      <td>Sleepy Hollow</td>\n",
       "      <td>like</td>\n",
       "      <td>4</td>\n",
       "      <td>F</td>\n",
       "      <td>Movies</td>\n",
       "    </tr>\n",
       "    <tr>\n",
       "      <th>2895</th>\n",
       "      <td>10815</td>\n",
       "      <td>121299</td>\n",
       "      <td>Another movie to keep us out of the water!!!!</td>\n",
       "      <td>Deep Blue Sea</td>\n",
       "      <td>like</td>\n",
       "      <td>3</td>\n",
       "      <td>F</td>\n",
       "      <td>Movies</td>\n",
       "    </tr>\n",
       "    <tr>\n",
       "      <th>2896</th>\n",
       "      <td>10815</td>\n",
       "      <td>121399</td>\n",
       "      <td>Miles above other films.</td>\n",
       "      <td>Green Mile</td>\n",
       "      <td>like</td>\n",
       "      <td>4</td>\n",
       "      <td>F</td>\n",
       "      <td>Movies</td>\n",
       "    </tr>\n",
       "    <tr>\n",
       "      <th>2897</th>\n",
       "      <td>10815</td>\n",
       "      <td>121499</td>\n",
       "      <td>This could be the beginning of a comedy era.</td>\n",
       "      <td>Austin Powers: The Spy Who Shagged Me</td>\n",
       "      <td>dislike</td>\n",
       "      <td>4</td>\n",
       "      <td>F</td>\n",
       "      <td>Movies</td>\n",
       "    </tr>\n",
       "    <tr>\n",
       "      <th>2898</th>\n",
       "      <td>10815</td>\n",
       "      <td>121499</td>\n",
       "      <td>Maybe it should have been cut?</td>\n",
       "      <td>South Park: Bigger, Longer &amp; Uncut</td>\n",
       "      <td>dislike</td>\n",
       "      <td>4</td>\n",
       "      <td>F</td>\n",
       "      <td>Movies</td>\n",
       "    </tr>\n",
       "  </tbody>\n",
       "</table>\n",
       "<p>2899 rows × 8 columns</p>\n",
       "</div>"
      ],
      "text/plain": [
       "      userId  timestamp                                             review  \\\n",
       "0       4259      11900        Finally, Something for (Relatively) Nothing   \n",
       "1       4259      12000                                          Shocking!   \n",
       "2       4259      12000                                Simply Shaggadelic!   \n",
       "3       4259      12000                             Better Than The First!   \n",
       "4       4259      12000                Blair Witch made me appreciate this   \n",
       "...      ...        ...                                                ...   \n",
       "2894   10815     112799  I dare you to sleep through this soon to be cl...   \n",
       "2895   10815     121299      Another movie to keep us out of the water!!!!   \n",
       "2896   10815     121399                           Miles above other films.   \n",
       "2897   10815     121499       This could be the beginning of a comedy era.   \n",
       "2898   10815     121499                     Maybe it should have been cut?   \n",
       "\n",
       "                                         item   rating  helpfulness gender  \\\n",
       "0                                MyPoints.com     like            4      F   \n",
       "1                                 Sixth Sense     like            4      F   \n",
       "2       Austin Powers: The Spy Who Shagged Me     like            4      F   \n",
       "3                                 Toy Story 2     like            3      F   \n",
       "4     Star Wars Episode I: The Phantom Menace  dislike            4      F   \n",
       "...                                       ...      ...          ...    ...   \n",
       "2894                            Sleepy Hollow     like            4      F   \n",
       "2895                            Deep Blue Sea     like            3      F   \n",
       "2896                               Green Mile     like            4      F   \n",
       "2897    Austin Powers: The Spy Who Shagged Me  dislike            4      F   \n",
       "2898       South Park: Bigger, Longer & Uncut  dislike            4      F   \n",
       "\n",
       "                      category  \n",
       "0     Online Stores & Services  \n",
       "1                       Movies  \n",
       "2                       Movies  \n",
       "3                       Movies  \n",
       "4                       Movies  \n",
       "...                        ...  \n",
       "2894                    Movies  \n",
       "2895                    Movies  \n",
       "2896                    Movies  \n",
       "2897                    Movies  \n",
       "2898                    Movies  \n",
       "\n",
       "[2899 rows x 8 columns]"
      ]
     },
     "execution_count": 240,
     "metadata": {},
     "output_type": "execute_result"
    }
   ],
   "source": [
    "# displaying the dataset and its length\n",
    "df"
   ]
  },
  {
   "cell_type": "markdown",
   "id": "1f4fa7f3",
   "metadata": {},
   "source": [
    "# Exploring the data"
   ]
  },
  {
   "cell_type": "code",
   "execution_count": 241,
   "id": "0308b8c3",
   "metadata": {},
   "outputs": [
    {
     "name": "stdout",
     "output_type": "stream",
     "text": [
      "<class 'pandas.core.frame.DataFrame'>\n",
      "RangeIndex: 2899 entries, 0 to 2898\n",
      "Data columns (total 8 columns):\n",
      " #   Column       Non-Null Count  Dtype \n",
      "---  ------       --------------  ----- \n",
      " 0   userId       2899 non-null   int64 \n",
      " 1   timestamp    2899 non-null   int64 \n",
      " 2   review       2899 non-null   object\n",
      " 3   item         2899 non-null   object\n",
      " 4   rating       2899 non-null   object\n",
      " 5   helpfulness  2899 non-null   int64 \n",
      " 6   gender       2899 non-null   object\n",
      " 7   category     2899 non-null   object\n",
      "dtypes: int64(3), object(5)\n",
      "memory usage: 181.3+ KB\n"
     ]
    }
   ],
   "source": [
    "# displaying the info of the dataframe\n",
    "\n",
    "df.info()"
   ]
  },
  {
   "cell_type": "code",
   "execution_count": 242,
   "id": "b33081b6",
   "metadata": {},
   "outputs": [
    {
     "data": {
      "text/html": [
       "<div>\n",
       "<style scoped>\n",
       "    .dataframe tbody tr th:only-of-type {\n",
       "        vertical-align: middle;\n",
       "    }\n",
       "\n",
       "    .dataframe tbody tr th {\n",
       "        vertical-align: top;\n",
       "    }\n",
       "\n",
       "    .dataframe thead th {\n",
       "        text-align: right;\n",
       "    }\n",
       "</style>\n",
       "<table border=\"1\" class=\"dataframe\">\n",
       "  <thead>\n",
       "    <tr style=\"text-align: right;\">\n",
       "      <th></th>\n",
       "      <th>userId</th>\n",
       "      <th>timestamp</th>\n",
       "      <th>helpfulness</th>\n",
       "    </tr>\n",
       "  </thead>\n",
       "  <tbody>\n",
       "    <tr>\n",
       "      <th>count</th>\n",
       "      <td>2899.000000</td>\n",
       "      <td>2899.000000</td>\n",
       "      <td>2899.000000</td>\n",
       "    </tr>\n",
       "    <tr>\n",
       "      <th>mean</th>\n",
       "      <td>5430.148672</td>\n",
       "      <td>56403.285271</td>\n",
       "      <td>3.875474</td>\n",
       "    </tr>\n",
       "    <tr>\n",
       "      <th>std</th>\n",
       "      <td>3460.227028</td>\n",
       "      <td>37664.826368</td>\n",
       "      <td>0.330237</td>\n",
       "    </tr>\n",
       "    <tr>\n",
       "      <th>min</th>\n",
       "      <td>46.000000</td>\n",
       "      <td>10100.000000</td>\n",
       "      <td>3.000000</td>\n",
       "    </tr>\n",
       "    <tr>\n",
       "      <th>25%</th>\n",
       "      <td>1676.000000</td>\n",
       "      <td>20500.000000</td>\n",
       "      <td>4.000000</td>\n",
       "    </tr>\n",
       "    <tr>\n",
       "      <th>50%</th>\n",
       "      <td>5985.000000</td>\n",
       "      <td>52101.000000</td>\n",
       "      <td>4.000000</td>\n",
       "    </tr>\n",
       "    <tr>\n",
       "      <th>75%</th>\n",
       "      <td>8626.000000</td>\n",
       "      <td>82500.000000</td>\n",
       "      <td>4.000000</td>\n",
       "    </tr>\n",
       "    <tr>\n",
       "      <th>max</th>\n",
       "      <td>10815.000000</td>\n",
       "      <td>123199.000000</td>\n",
       "      <td>4.000000</td>\n",
       "    </tr>\n",
       "  </tbody>\n",
       "</table>\n",
       "</div>"
      ],
      "text/plain": [
       "             userId      timestamp  helpfulness\n",
       "count   2899.000000    2899.000000  2899.000000\n",
       "mean    5430.148672   56403.285271     3.875474\n",
       "std     3460.227028   37664.826368     0.330237\n",
       "min       46.000000   10100.000000     3.000000\n",
       "25%     1676.000000   20500.000000     4.000000\n",
       "50%     5985.000000   52101.000000     4.000000\n",
       "75%     8626.000000   82500.000000     4.000000\n",
       "max    10815.000000  123199.000000     4.000000"
      ]
     },
     "execution_count": 242,
     "metadata": {},
     "output_type": "execute_result"
    }
   ],
   "source": [
    "# description of the dataframe\n",
    "df.describe()"
   ]
  },
  {
   "cell_type": "code",
   "execution_count": 243,
   "id": "96e58ecd",
   "metadata": {},
   "outputs": [
    {
     "data": {
      "text/plain": [
       "(2899, 8)"
      ]
     },
     "execution_count": 243,
     "metadata": {},
     "output_type": "execute_result"
    }
   ],
   "source": [
    "# displaying the shape of the data\n",
    "\n",
    "df.shape"
   ]
  },
  {
   "cell_type": "code",
   "execution_count": 244,
   "id": "26e038ab",
   "metadata": {},
   "outputs": [
    {
     "data": {
      "text/plain": [
       "userId         2899\n",
       "timestamp      2899\n",
       "review         2899\n",
       "item           2899\n",
       "rating         2899\n",
       "helpfulness    2899\n",
       "gender         2899\n",
       "category       2899\n",
       "dtype: int64"
      ]
     },
     "execution_count": 244,
     "metadata": {},
     "output_type": "execute_result"
    }
   ],
   "source": [
    "# counting the size of the data\n",
    "\n",
    "df.count()"
   ]
  },
  {
   "cell_type": "code",
   "execution_count": 245,
   "id": "1ae20f3b",
   "metadata": {},
   "outputs": [
    {
     "name": "stdout",
     "output_type": "stream",
     "text": [
      "2899\n",
      "8\n"
     ]
    }
   ],
   "source": [
    "# counting the size of the data using len() function\n",
    "\n",
    "rows = len(df.axes[0])\n",
    "cols = len(df.axes[1])\n",
    "print(rows)\n",
    "print(cols)"
   ]
  },
  {
   "cell_type": "code",
   "execution_count": 246,
   "id": "ab51aff4",
   "metadata": {},
   "outputs": [
    {
     "data": {
      "text/plain": [
       "Index(['userId', 'timestamp', 'review', 'item', 'rating', 'helpfulness',\n",
       "       'gender', 'category'],\n",
       "      dtype='object')"
      ]
     },
     "execution_count": 246,
     "metadata": {},
     "output_type": "execute_result"
    }
   ],
   "source": [
    "# displaying the columns in the dataframe\n",
    "\n",
    "df.columns"
   ]
  },
  {
   "cell_type": "code",
   "execution_count": 247,
   "id": "adcce9bc",
   "metadata": {},
   "outputs": [],
   "source": [
    "# cleaning the dataset\n",
    "\n",
    "data_frame=df.drop(['timestamp', 'userId', 'item'], axis=1)\n"
   ]
  },
  {
   "cell_type": "code",
   "execution_count": 248,
   "id": "d153e44d",
   "metadata": {},
   "outputs": [
    {
     "data": {
      "text/html": [
       "<div>\n",
       "<style scoped>\n",
       "    .dataframe tbody tr th:only-of-type {\n",
       "        vertical-align: middle;\n",
       "    }\n",
       "\n",
       "    .dataframe tbody tr th {\n",
       "        vertical-align: top;\n",
       "    }\n",
       "\n",
       "    .dataframe thead th {\n",
       "        text-align: right;\n",
       "    }\n",
       "</style>\n",
       "<table border=\"1\" class=\"dataframe\">\n",
       "  <thead>\n",
       "    <tr style=\"text-align: right;\">\n",
       "      <th></th>\n",
       "      <th>review</th>\n",
       "      <th>rating</th>\n",
       "      <th>helpfulness</th>\n",
       "      <th>gender</th>\n",
       "      <th>category</th>\n",
       "    </tr>\n",
       "  </thead>\n",
       "  <tbody>\n",
       "    <tr>\n",
       "      <th>0</th>\n",
       "      <td>Finally, Something for (Relatively) Nothing</td>\n",
       "      <td>like</td>\n",
       "      <td>4</td>\n",
       "      <td>F</td>\n",
       "      <td>Online Stores &amp; Services</td>\n",
       "    </tr>\n",
       "    <tr>\n",
       "      <th>1</th>\n",
       "      <td>Shocking!</td>\n",
       "      <td>like</td>\n",
       "      <td>4</td>\n",
       "      <td>F</td>\n",
       "      <td>Movies</td>\n",
       "    </tr>\n",
       "    <tr>\n",
       "      <th>2</th>\n",
       "      <td>Simply Shaggadelic!</td>\n",
       "      <td>like</td>\n",
       "      <td>4</td>\n",
       "      <td>F</td>\n",
       "      <td>Movies</td>\n",
       "    </tr>\n",
       "    <tr>\n",
       "      <th>3</th>\n",
       "      <td>Better Than The First!</td>\n",
       "      <td>like</td>\n",
       "      <td>3</td>\n",
       "      <td>F</td>\n",
       "      <td>Movies</td>\n",
       "    </tr>\n",
       "    <tr>\n",
       "      <th>4</th>\n",
       "      <td>Blair Witch made me appreciate this</td>\n",
       "      <td>dislike</td>\n",
       "      <td>4</td>\n",
       "      <td>F</td>\n",
       "      <td>Movies</td>\n",
       "    </tr>\n",
       "    <tr>\n",
       "      <th>...</th>\n",
       "      <td>...</td>\n",
       "      <td>...</td>\n",
       "      <td>...</td>\n",
       "      <td>...</td>\n",
       "      <td>...</td>\n",
       "    </tr>\n",
       "    <tr>\n",
       "      <th>2894</th>\n",
       "      <td>I dare you to sleep through this soon to be cl...</td>\n",
       "      <td>like</td>\n",
       "      <td>4</td>\n",
       "      <td>F</td>\n",
       "      <td>Movies</td>\n",
       "    </tr>\n",
       "    <tr>\n",
       "      <th>2895</th>\n",
       "      <td>Another movie to keep us out of the water!!!!</td>\n",
       "      <td>like</td>\n",
       "      <td>3</td>\n",
       "      <td>F</td>\n",
       "      <td>Movies</td>\n",
       "    </tr>\n",
       "    <tr>\n",
       "      <th>2896</th>\n",
       "      <td>Miles above other films.</td>\n",
       "      <td>like</td>\n",
       "      <td>4</td>\n",
       "      <td>F</td>\n",
       "      <td>Movies</td>\n",
       "    </tr>\n",
       "    <tr>\n",
       "      <th>2897</th>\n",
       "      <td>This could be the beginning of a comedy era.</td>\n",
       "      <td>dislike</td>\n",
       "      <td>4</td>\n",
       "      <td>F</td>\n",
       "      <td>Movies</td>\n",
       "    </tr>\n",
       "    <tr>\n",
       "      <th>2898</th>\n",
       "      <td>Maybe it should have been cut?</td>\n",
       "      <td>dislike</td>\n",
       "      <td>4</td>\n",
       "      <td>F</td>\n",
       "      <td>Movies</td>\n",
       "    </tr>\n",
       "  </tbody>\n",
       "</table>\n",
       "<p>2899 rows × 5 columns</p>\n",
       "</div>"
      ],
      "text/plain": [
       "                                                 review   rating  helpfulness  \\\n",
       "0           Finally, Something for (Relatively) Nothing     like            4   \n",
       "1                                             Shocking!     like            4   \n",
       "2                                   Simply Shaggadelic!     like            4   \n",
       "3                                Better Than The First!     like            3   \n",
       "4                   Blair Witch made me appreciate this  dislike            4   \n",
       "...                                                 ...      ...          ...   \n",
       "2894  I dare you to sleep through this soon to be cl...     like            4   \n",
       "2895      Another movie to keep us out of the water!!!!     like            3   \n",
       "2896                           Miles above other films.     like            4   \n",
       "2897       This could be the beginning of a comedy era.  dislike            4   \n",
       "2898                     Maybe it should have been cut?  dislike            4   \n",
       "\n",
       "     gender                  category  \n",
       "0         F  Online Stores & Services  \n",
       "1         F                    Movies  \n",
       "2         F                    Movies  \n",
       "3         F                    Movies  \n",
       "4         F                    Movies  \n",
       "...     ...                       ...  \n",
       "2894      F                    Movies  \n",
       "2895      F                    Movies  \n",
       "2896      F                    Movies  \n",
       "2897      F                    Movies  \n",
       "2898      F                    Movies  \n",
       "\n",
       "[2899 rows x 5 columns]"
      ]
     },
     "execution_count": 248,
     "metadata": {},
     "output_type": "execute_result"
    }
   ],
   "source": [
    "data_frame.dropna()"
   ]
  },
  {
   "cell_type": "code",
   "execution_count": 249,
   "id": "56fdbabc",
   "metadata": {},
   "outputs": [
    {
     "data": {
      "text/plain": [
       "review         0\n",
       "rating         0\n",
       "helpfulness    0\n",
       "gender         0\n",
       "category       0\n",
       "dtype: int64"
      ]
     },
     "execution_count": 249,
     "metadata": {},
     "output_type": "execute_result"
    }
   ],
   "source": [
    "# identifying missing/null values \n",
    "\n",
    "data_frame.isnull().sum()"
   ]
  },
  {
   "cell_type": "code",
   "execution_count": 250,
   "id": "9292150b",
   "metadata": {},
   "outputs": [
    {
     "name": "stdout",
     "output_type": "stream",
     "text": [
      "(2899, 5)\n"
     ]
    }
   ],
   "source": [
    "# shape of the data\n",
    "\n",
    "print(data_frame.shape)"
   ]
  },
  {
   "cell_type": "code",
   "execution_count": 251,
   "id": "433d9f5c",
   "metadata": {},
   "outputs": [],
   "source": [
    "# seaborn library-> count plot use for ratings, gender values, varies categories etc. [not apply for user id, timestamp, item]\n",
    "\n",
    "#sns.countplot(x='item', y='rating', hue='gender', data=data_frame)\n"
   ]
  },
  {
   "cell_type": "markdown",
   "id": "ac2d4538",
   "metadata": {},
   "source": [
    "# Converting object features into digit features\n",
    "\n",
    "categorical features=> numerical values"
   ]
  },
  {
   "cell_type": "code",
   "execution_count": 252,
   "id": "99b11b72",
   "metadata": {},
   "outputs": [
    {
     "data": {
      "text/html": [
       "<div>\n",
       "<style scoped>\n",
       "    .dataframe tbody tr th:only-of-type {\n",
       "        vertical-align: middle;\n",
       "    }\n",
       "\n",
       "    .dataframe tbody tr th {\n",
       "        vertical-align: top;\n",
       "    }\n",
       "\n",
       "    .dataframe thead th {\n",
       "        text-align: right;\n",
       "    }\n",
       "</style>\n",
       "<table border=\"1\" class=\"dataframe\">\n",
       "  <thead>\n",
       "    <tr style=\"text-align: right;\">\n",
       "      <th></th>\n",
       "      <th>review</th>\n",
       "      <th>review code</th>\n",
       "    </tr>\n",
       "  </thead>\n",
       "  <tbody>\n",
       "    <tr>\n",
       "      <th>0</th>\n",
       "      <td>Finally, Something for (Relatively) Nothing</td>\n",
       "      <td>856.0</td>\n",
       "    </tr>\n",
       "    <tr>\n",
       "      <th>1</th>\n",
       "      <td>Shocking!</td>\n",
       "      <td>1985.0</td>\n",
       "    </tr>\n",
       "    <tr>\n",
       "      <th>2</th>\n",
       "      <td>Simply Shaggadelic!</td>\n",
       "      <td>2006.0</td>\n",
       "    </tr>\n",
       "    <tr>\n",
       "      <th>3</th>\n",
       "      <td>Better Than The First!</td>\n",
       "      <td>472.0</td>\n",
       "    </tr>\n",
       "    <tr>\n",
       "      <th>4</th>\n",
       "      <td>Blair Witch made me appreciate this</td>\n",
       "      <td>493.0</td>\n",
       "    </tr>\n",
       "    <tr>\n",
       "      <th>...</th>\n",
       "      <td>...</td>\n",
       "      <td>...</td>\n",
       "    </tr>\n",
       "    <tr>\n",
       "      <th>2894</th>\n",
       "      <td>I dare you to sleep through this soon to be cl...</td>\n",
       "      <td>1221.0</td>\n",
       "    </tr>\n",
       "    <tr>\n",
       "      <th>2895</th>\n",
       "      <td>Another movie to keep us out of the water!!!!</td>\n",
       "      <td>379.0</td>\n",
       "    </tr>\n",
       "    <tr>\n",
       "      <th>2896</th>\n",
       "      <td>Miles above other films.</td>\n",
       "      <td>1546.0</td>\n",
       "    </tr>\n",
       "    <tr>\n",
       "      <th>2897</th>\n",
       "      <td>This could be the beginning of a comedy era.</td>\n",
       "      <td>2431.0</td>\n",
       "    </tr>\n",
       "    <tr>\n",
       "      <th>2898</th>\n",
       "      <td>Maybe it should have been cut?</td>\n",
       "      <td>1519.0</td>\n",
       "    </tr>\n",
       "  </tbody>\n",
       "</table>\n",
       "<p>2899 rows × 2 columns</p>\n",
       "</div>"
      ],
      "text/plain": [
       "                                                 review  review code\n",
       "0           Finally, Something for (Relatively) Nothing        856.0\n",
       "1                                             Shocking!       1985.0\n",
       "2                                   Simply Shaggadelic!       2006.0\n",
       "3                                Better Than The First!        472.0\n",
       "4                   Blair Witch made me appreciate this        493.0\n",
       "...                                                 ...          ...\n",
       "2894  I dare you to sleep through this soon to be cl...       1221.0\n",
       "2895      Another movie to keep us out of the water!!!!        379.0\n",
       "2896                           Miles above other films.       1546.0\n",
       "2897       This could be the beginning of a comedy era.       2431.0\n",
       "2898                     Maybe it should have been cut?       1519.0\n",
       "\n",
       "[2899 rows x 2 columns]"
      ]
     },
     "execution_count": 252,
     "metadata": {},
     "output_type": "execute_result"
    }
   ],
   "source": [
    "# converting the categorical values into numeric values for 'review'\n",
    "\n",
    "ord_enc = OrdinalEncoder()\n",
    "\n",
    "data_frame[\"review code\"] = ord_enc.fit_transform(data_frame[[\"review\"]])\n",
    "data_frame[[\"review\", \"review code\"]]"
   ]
  },
  {
   "cell_type": "code",
   "execution_count": 253,
   "id": "9ed4eb2b",
   "metadata": {},
   "outputs": [
    {
     "data": {
      "text/html": [
       "<div>\n",
       "<style scoped>\n",
       "    .dataframe tbody tr th:only-of-type {\n",
       "        vertical-align: middle;\n",
       "    }\n",
       "\n",
       "    .dataframe tbody tr th {\n",
       "        vertical-align: top;\n",
       "    }\n",
       "\n",
       "    .dataframe thead th {\n",
       "        text-align: right;\n",
       "    }\n",
       "</style>\n",
       "<table border=\"1\" class=\"dataframe\">\n",
       "  <thead>\n",
       "    <tr style=\"text-align: right;\">\n",
       "      <th></th>\n",
       "      <th>rating</th>\n",
       "      <th>rating code</th>\n",
       "    </tr>\n",
       "  </thead>\n",
       "  <tbody>\n",
       "    <tr>\n",
       "      <th>0</th>\n",
       "      <td>like</td>\n",
       "      <td>1.0</td>\n",
       "    </tr>\n",
       "    <tr>\n",
       "      <th>1</th>\n",
       "      <td>like</td>\n",
       "      <td>1.0</td>\n",
       "    </tr>\n",
       "    <tr>\n",
       "      <th>2</th>\n",
       "      <td>like</td>\n",
       "      <td>1.0</td>\n",
       "    </tr>\n",
       "    <tr>\n",
       "      <th>3</th>\n",
       "      <td>like</td>\n",
       "      <td>1.0</td>\n",
       "    </tr>\n",
       "    <tr>\n",
       "      <th>4</th>\n",
       "      <td>dislike</td>\n",
       "      <td>0.0</td>\n",
       "    </tr>\n",
       "    <tr>\n",
       "      <th>...</th>\n",
       "      <td>...</td>\n",
       "      <td>...</td>\n",
       "    </tr>\n",
       "    <tr>\n",
       "      <th>2894</th>\n",
       "      <td>like</td>\n",
       "      <td>1.0</td>\n",
       "    </tr>\n",
       "    <tr>\n",
       "      <th>2895</th>\n",
       "      <td>like</td>\n",
       "      <td>1.0</td>\n",
       "    </tr>\n",
       "    <tr>\n",
       "      <th>2896</th>\n",
       "      <td>like</td>\n",
       "      <td>1.0</td>\n",
       "    </tr>\n",
       "    <tr>\n",
       "      <th>2897</th>\n",
       "      <td>dislike</td>\n",
       "      <td>0.0</td>\n",
       "    </tr>\n",
       "    <tr>\n",
       "      <th>2898</th>\n",
       "      <td>dislike</td>\n",
       "      <td>0.0</td>\n",
       "    </tr>\n",
       "  </tbody>\n",
       "</table>\n",
       "<p>2899 rows × 2 columns</p>\n",
       "</div>"
      ],
      "text/plain": [
       "       rating  rating code\n",
       "0        like          1.0\n",
       "1        like          1.0\n",
       "2        like          1.0\n",
       "3        like          1.0\n",
       "4     dislike          0.0\n",
       "...       ...          ...\n",
       "2894     like          1.0\n",
       "2895     like          1.0\n",
       "2896     like          1.0\n",
       "2897  dislike          0.0\n",
       "2898  dislike          0.0\n",
       "\n",
       "[2899 rows x 2 columns]"
      ]
     },
     "execution_count": 253,
     "metadata": {},
     "output_type": "execute_result"
    }
   ],
   "source": [
    "# converting the categorical values into numeric values for 'rating'\n",
    "\n",
    "ord_enc = OrdinalEncoder()\n",
    "\n",
    "data_frame[\"rating code\"] = ord_enc.fit_transform(data_frame[[\"rating\"]])\n",
    "data_frame[[\"rating\", \"rating code\"]]"
   ]
  },
  {
   "cell_type": "code",
   "execution_count": 254,
   "id": "ca73286c",
   "metadata": {},
   "outputs": [
    {
     "data": {
      "text/html": [
       "<div>\n",
       "<style scoped>\n",
       "    .dataframe tbody tr th:only-of-type {\n",
       "        vertical-align: middle;\n",
       "    }\n",
       "\n",
       "    .dataframe tbody tr th {\n",
       "        vertical-align: top;\n",
       "    }\n",
       "\n",
       "    .dataframe thead th {\n",
       "        text-align: right;\n",
       "    }\n",
       "</style>\n",
       "<table border=\"1\" class=\"dataframe\">\n",
       "  <thead>\n",
       "    <tr style=\"text-align: right;\">\n",
       "      <th></th>\n",
       "      <th>category</th>\n",
       "      <th>category code</th>\n",
       "    </tr>\n",
       "  </thead>\n",
       "  <tbody>\n",
       "    <tr>\n",
       "      <th>0</th>\n",
       "      <td>Online Stores &amp; Services</td>\n",
       "      <td>6.0</td>\n",
       "    </tr>\n",
       "    <tr>\n",
       "      <th>1</th>\n",
       "      <td>Movies</td>\n",
       "      <td>5.0</td>\n",
       "    </tr>\n",
       "    <tr>\n",
       "      <th>2</th>\n",
       "      <td>Movies</td>\n",
       "      <td>5.0</td>\n",
       "    </tr>\n",
       "    <tr>\n",
       "      <th>3</th>\n",
       "      <td>Movies</td>\n",
       "      <td>5.0</td>\n",
       "    </tr>\n",
       "    <tr>\n",
       "      <th>4</th>\n",
       "      <td>Movies</td>\n",
       "      <td>5.0</td>\n",
       "    </tr>\n",
       "    <tr>\n",
       "      <th>...</th>\n",
       "      <td>...</td>\n",
       "      <td>...</td>\n",
       "    </tr>\n",
       "    <tr>\n",
       "      <th>2894</th>\n",
       "      <td>Movies</td>\n",
       "      <td>5.0</td>\n",
       "    </tr>\n",
       "    <tr>\n",
       "      <th>2895</th>\n",
       "      <td>Movies</td>\n",
       "      <td>5.0</td>\n",
       "    </tr>\n",
       "    <tr>\n",
       "      <th>2896</th>\n",
       "      <td>Movies</td>\n",
       "      <td>5.0</td>\n",
       "    </tr>\n",
       "    <tr>\n",
       "      <th>2897</th>\n",
       "      <td>Movies</td>\n",
       "      <td>5.0</td>\n",
       "    </tr>\n",
       "    <tr>\n",
       "      <th>2898</th>\n",
       "      <td>Movies</td>\n",
       "      <td>5.0</td>\n",
       "    </tr>\n",
       "  </tbody>\n",
       "</table>\n",
       "<p>2899 rows × 2 columns</p>\n",
       "</div>"
      ],
      "text/plain": [
       "                      category  category code\n",
       "0     Online Stores & Services            6.0\n",
       "1                       Movies            5.0\n",
       "2                       Movies            5.0\n",
       "3                       Movies            5.0\n",
       "4                       Movies            5.0\n",
       "...                        ...            ...\n",
       "2894                    Movies            5.0\n",
       "2895                    Movies            5.0\n",
       "2896                    Movies            5.0\n",
       "2897                    Movies            5.0\n",
       "2898                    Movies            5.0\n",
       "\n",
       "[2899 rows x 2 columns]"
      ]
     },
     "execution_count": 254,
     "metadata": {},
     "output_type": "execute_result"
    }
   ],
   "source": [
    "# converting the categorical values into numeric values for 'category'\n",
    "\n",
    "ord_enc = OrdinalEncoder()\n",
    "\n",
    "data_frame[\"category code\"] = ord_enc.fit_transform(data_frame[[\"category\"]])\n",
    "data_frame[[\"category\", \"category code\"]]"
   ]
  },
  {
   "cell_type": "code",
   "execution_count": 255,
   "id": "ba48793a",
   "metadata": {},
   "outputs": [
    {
     "data": {
      "text/html": [
       "<div>\n",
       "<style scoped>\n",
       "    .dataframe tbody tr th:only-of-type {\n",
       "        vertical-align: middle;\n",
       "    }\n",
       "\n",
       "    .dataframe tbody tr th {\n",
       "        vertical-align: top;\n",
       "    }\n",
       "\n",
       "    .dataframe thead th {\n",
       "        text-align: right;\n",
       "    }\n",
       "</style>\n",
       "<table border=\"1\" class=\"dataframe\">\n",
       "  <thead>\n",
       "    <tr style=\"text-align: right;\">\n",
       "      <th></th>\n",
       "      <th>gender</th>\n",
       "      <th>gender code</th>\n",
       "    </tr>\n",
       "  </thead>\n",
       "  <tbody>\n",
       "    <tr>\n",
       "      <th>0</th>\n",
       "      <td>F</td>\n",
       "      <td>0.0</td>\n",
       "    </tr>\n",
       "    <tr>\n",
       "      <th>1</th>\n",
       "      <td>F</td>\n",
       "      <td>0.0</td>\n",
       "    </tr>\n",
       "    <tr>\n",
       "      <th>2</th>\n",
       "      <td>F</td>\n",
       "      <td>0.0</td>\n",
       "    </tr>\n",
       "    <tr>\n",
       "      <th>3</th>\n",
       "      <td>F</td>\n",
       "      <td>0.0</td>\n",
       "    </tr>\n",
       "    <tr>\n",
       "      <th>4</th>\n",
       "      <td>F</td>\n",
       "      <td>0.0</td>\n",
       "    </tr>\n",
       "    <tr>\n",
       "      <th>...</th>\n",
       "      <td>...</td>\n",
       "      <td>...</td>\n",
       "    </tr>\n",
       "    <tr>\n",
       "      <th>2894</th>\n",
       "      <td>F</td>\n",
       "      <td>0.0</td>\n",
       "    </tr>\n",
       "    <tr>\n",
       "      <th>2895</th>\n",
       "      <td>F</td>\n",
       "      <td>0.0</td>\n",
       "    </tr>\n",
       "    <tr>\n",
       "      <th>2896</th>\n",
       "      <td>F</td>\n",
       "      <td>0.0</td>\n",
       "    </tr>\n",
       "    <tr>\n",
       "      <th>2897</th>\n",
       "      <td>F</td>\n",
       "      <td>0.0</td>\n",
       "    </tr>\n",
       "    <tr>\n",
       "      <th>2898</th>\n",
       "      <td>F</td>\n",
       "      <td>0.0</td>\n",
       "    </tr>\n",
       "  </tbody>\n",
       "</table>\n",
       "<p>2899 rows × 2 columns</p>\n",
       "</div>"
      ],
      "text/plain": [
       "     gender  gender code\n",
       "0         F          0.0\n",
       "1         F          0.0\n",
       "2         F          0.0\n",
       "3         F          0.0\n",
       "4         F          0.0\n",
       "...     ...          ...\n",
       "2894      F          0.0\n",
       "2895      F          0.0\n",
       "2896      F          0.0\n",
       "2897      F          0.0\n",
       "2898      F          0.0\n",
       "\n",
       "[2899 rows x 2 columns]"
      ]
     },
     "execution_count": 255,
     "metadata": {},
     "output_type": "execute_result"
    }
   ],
   "source": [
    "# converting the categorical values into numeric values for 'gender'\n",
    "\n",
    "ord_enc = OrdinalEncoder()\n",
    "\n",
    "data_frame[\"gender code\"] = ord_enc.fit_transform(data_frame[[\"gender\"]])\n",
    "data_frame[[\"gender\", \"gender code\"]]\n"
   ]
  },
  {
   "cell_type": "code",
   "execution_count": 256,
   "id": "7bc94202",
   "metadata": {},
   "outputs": [
    {
     "data": {
      "text/html": [
       "<div>\n",
       "<style scoped>\n",
       "    .dataframe tbody tr th:only-of-type {\n",
       "        vertical-align: middle;\n",
       "    }\n",
       "\n",
       "    .dataframe tbody tr th {\n",
       "        vertical-align: top;\n",
       "    }\n",
       "\n",
       "    .dataframe thead th {\n",
       "        text-align: right;\n",
       "    }\n",
       "</style>\n",
       "<table border=\"1\" class=\"dataframe\">\n",
       "  <thead>\n",
       "    <tr style=\"text-align: right;\">\n",
       "      <th></th>\n",
       "      <th>review</th>\n",
       "      <th>rating</th>\n",
       "      <th>helpfulness</th>\n",
       "      <th>gender</th>\n",
       "      <th>category</th>\n",
       "      <th>review code</th>\n",
       "      <th>rating code</th>\n",
       "      <th>category code</th>\n",
       "      <th>gender code</th>\n",
       "    </tr>\n",
       "  </thead>\n",
       "  <tbody>\n",
       "    <tr>\n",
       "      <th>0</th>\n",
       "      <td>Finally, Something for (Relatively) Nothing</td>\n",
       "      <td>like</td>\n",
       "      <td>4</td>\n",
       "      <td>F</td>\n",
       "      <td>Online Stores &amp; Services</td>\n",
       "      <td>856.0</td>\n",
       "      <td>1.0</td>\n",
       "      <td>6.0</td>\n",
       "      <td>0.0</td>\n",
       "    </tr>\n",
       "    <tr>\n",
       "      <th>1</th>\n",
       "      <td>Shocking!</td>\n",
       "      <td>like</td>\n",
       "      <td>4</td>\n",
       "      <td>F</td>\n",
       "      <td>Movies</td>\n",
       "      <td>1985.0</td>\n",
       "      <td>1.0</td>\n",
       "      <td>5.0</td>\n",
       "      <td>0.0</td>\n",
       "    </tr>\n",
       "    <tr>\n",
       "      <th>2</th>\n",
       "      <td>Simply Shaggadelic!</td>\n",
       "      <td>like</td>\n",
       "      <td>4</td>\n",
       "      <td>F</td>\n",
       "      <td>Movies</td>\n",
       "      <td>2006.0</td>\n",
       "      <td>1.0</td>\n",
       "      <td>5.0</td>\n",
       "      <td>0.0</td>\n",
       "    </tr>\n",
       "    <tr>\n",
       "      <th>3</th>\n",
       "      <td>Better Than The First!</td>\n",
       "      <td>like</td>\n",
       "      <td>3</td>\n",
       "      <td>F</td>\n",
       "      <td>Movies</td>\n",
       "      <td>472.0</td>\n",
       "      <td>1.0</td>\n",
       "      <td>5.0</td>\n",
       "      <td>0.0</td>\n",
       "    </tr>\n",
       "    <tr>\n",
       "      <th>4</th>\n",
       "      <td>Blair Witch made me appreciate this</td>\n",
       "      <td>dislike</td>\n",
       "      <td>4</td>\n",
       "      <td>F</td>\n",
       "      <td>Movies</td>\n",
       "      <td>493.0</td>\n",
       "      <td>0.0</td>\n",
       "      <td>5.0</td>\n",
       "      <td>0.0</td>\n",
       "    </tr>\n",
       "    <tr>\n",
       "      <th>5</th>\n",
       "      <td>Come here at least once in your life... stay a...</td>\n",
       "      <td>like</td>\n",
       "      <td>4</td>\n",
       "      <td>F</td>\n",
       "      <td>Hotels &amp; Travel</td>\n",
       "      <td>599.0</td>\n",
       "      <td>1.0</td>\n",
       "      <td>2.0</td>\n",
       "      <td>0.0</td>\n",
       "    </tr>\n",
       "    <tr>\n",
       "      <th>6</th>\n",
       "      <td>I joined for the free camera, and stood for no...</td>\n",
       "      <td>like</td>\n",
       "      <td>3</td>\n",
       "      <td>F</td>\n",
       "      <td>Online Stores &amp; Services</td>\n",
       "      <td>1232.0</td>\n",
       "      <td>1.0</td>\n",
       "      <td>6.0</td>\n",
       "      <td>0.0</td>\n",
       "    </tr>\n",
       "    <tr>\n",
       "      <th>7</th>\n",
       "      <td>They Should've Fooled the American Public</td>\n",
       "      <td>dislike</td>\n",
       "      <td>4</td>\n",
       "      <td>F</td>\n",
       "      <td>Movies</td>\n",
       "      <td>2415.0</td>\n",
       "      <td>0.0</td>\n",
       "      <td>5.0</td>\n",
       "      <td>0.0</td>\n",
       "    </tr>\n",
       "    <tr>\n",
       "      <th>8</th>\n",
       "      <td>A Short List of Things to Remember in NYC</td>\n",
       "      <td>like</td>\n",
       "      <td>4</td>\n",
       "      <td>F</td>\n",
       "      <td>Hotels &amp; Travel</td>\n",
       "      <td>136.0</td>\n",
       "      <td>1.0</td>\n",
       "      <td>2.0</td>\n",
       "      <td>0.0</td>\n",
       "    </tr>\n",
       "    <tr>\n",
       "      <th>9</th>\n",
       "      <td>Do you know what a metaphysical can of worms t...</td>\n",
       "      <td>like</td>\n",
       "      <td>4</td>\n",
       "      <td>F</td>\n",
       "      <td>Movies</td>\n",
       "      <td>692.0</td>\n",
       "      <td>1.0</td>\n",
       "      <td>5.0</td>\n",
       "      <td>0.0</td>\n",
       "    </tr>\n",
       "    <tr>\n",
       "      <th>10</th>\n",
       "      <td>The Sims: Better Than Illegal Drugs (Not That ...</td>\n",
       "      <td>like</td>\n",
       "      <td>4</td>\n",
       "      <td>F</td>\n",
       "      <td>Games</td>\n",
       "      <td>2339.0</td>\n",
       "      <td>1.0</td>\n",
       "      <td>1.0</td>\n",
       "      <td>0.0</td>\n",
       "    </tr>\n",
       "    <tr>\n",
       "      <th>11</th>\n",
       "      <td>M. Night Shyamalan's finest moment: Unbreakabl...</td>\n",
       "      <td>like</td>\n",
       "      <td>4</td>\n",
       "      <td>M</td>\n",
       "      <td>Movies</td>\n",
       "      <td>1477.0</td>\n",
       "      <td>1.0</td>\n",
       "      <td>5.0</td>\n",
       "      <td>1.0</td>\n",
       "    </tr>\n",
       "    <tr>\n",
       "      <th>12</th>\n",
       "      <td>Erin Brockovich: That movie where Julia Robert...</td>\n",
       "      <td>like</td>\n",
       "      <td>4</td>\n",
       "      <td>M</td>\n",
       "      <td>Movies</td>\n",
       "      <td>796.0</td>\n",
       "      <td>1.0</td>\n",
       "      <td>5.0</td>\n",
       "      <td>1.0</td>\n",
       "    </tr>\n",
       "    <tr>\n",
       "      <th>13</th>\n",
       "      <td>Another Cast Away review, that's all this plac...</td>\n",
       "      <td>like</td>\n",
       "      <td>4</td>\n",
       "      <td>M</td>\n",
       "      <td>Movies</td>\n",
       "      <td>370.0</td>\n",
       "      <td>1.0</td>\n",
       "      <td>5.0</td>\n",
       "      <td>1.0</td>\n",
       "    </tr>\n",
       "    <tr>\n",
       "      <th>14</th>\n",
       "      <td>I Just Figured, What the Hell.</td>\n",
       "      <td>like</td>\n",
       "      <td>4</td>\n",
       "      <td>M</td>\n",
       "      <td>Movies</td>\n",
       "      <td>1190.0</td>\n",
       "      <td>1.0</td>\n",
       "      <td>5.0</td>\n",
       "      <td>1.0</td>\n",
       "    </tr>\n",
       "  </tbody>\n",
       "</table>\n",
       "</div>"
      ],
      "text/plain": [
       "                                               review   rating  helpfulness  \\\n",
       "0         Finally, Something for (Relatively) Nothing     like            4   \n",
       "1                                           Shocking!     like            4   \n",
       "2                                 Simply Shaggadelic!     like            4   \n",
       "3                              Better Than The First!     like            3   \n",
       "4                 Blair Witch made me appreciate this  dislike            4   \n",
       "5   Come here at least once in your life... stay a...     like            4   \n",
       "6   I joined for the free camera, and stood for no...     like            3   \n",
       "7           They Should've Fooled the American Public  dislike            4   \n",
       "8           A Short List of Things to Remember in NYC     like            4   \n",
       "9   Do you know what a metaphysical can of worms t...     like            4   \n",
       "10  The Sims: Better Than Illegal Drugs (Not That ...     like            4   \n",
       "11  M. Night Shyamalan's finest moment: Unbreakabl...     like            4   \n",
       "12  Erin Brockovich: That movie where Julia Robert...     like            4   \n",
       "13  Another Cast Away review, that's all this plac...     like            4   \n",
       "14                     I Just Figured, What the Hell.     like            4   \n",
       "\n",
       "   gender                  category  review code  rating code  category code  \\\n",
       "0       F  Online Stores & Services        856.0          1.0            6.0   \n",
       "1       F                    Movies       1985.0          1.0            5.0   \n",
       "2       F                    Movies       2006.0          1.0            5.0   \n",
       "3       F                    Movies        472.0          1.0            5.0   \n",
       "4       F                    Movies        493.0          0.0            5.0   \n",
       "5       F           Hotels & Travel        599.0          1.0            2.0   \n",
       "6       F  Online Stores & Services       1232.0          1.0            6.0   \n",
       "7       F                    Movies       2415.0          0.0            5.0   \n",
       "8       F           Hotels & Travel        136.0          1.0            2.0   \n",
       "9       F                    Movies        692.0          1.0            5.0   \n",
       "10      F                     Games       2339.0          1.0            1.0   \n",
       "11      M                    Movies       1477.0          1.0            5.0   \n",
       "12      M                    Movies        796.0          1.0            5.0   \n",
       "13      M                    Movies        370.0          1.0            5.0   \n",
       "14      M                    Movies       1190.0          1.0            5.0   \n",
       "\n",
       "    gender code  \n",
       "0           0.0  \n",
       "1           0.0  \n",
       "2           0.0  \n",
       "3           0.0  \n",
       "4           0.0  \n",
       "5           0.0  \n",
       "6           0.0  \n",
       "7           0.0  \n",
       "8           0.0  \n",
       "9           0.0  \n",
       "10          0.0  \n",
       "11          1.0  \n",
       "12          1.0  \n",
       "13          1.0  \n",
       "14          1.0  "
      ]
     },
     "execution_count": 256,
     "metadata": {},
     "output_type": "execute_result"
    }
   ],
   "source": [
    "data_frame.head(15)"
   ]
  },
  {
   "cell_type": "markdown",
   "id": "d5a20284",
   "metadata": {},
   "source": [
    "# Correlation"
   ]
  },
  {
   "cell_type": "code",
   "execution_count": 257,
   "id": "dd62402e",
   "metadata": {},
   "outputs": [
    {
     "data": {
      "text/html": [
       "<div>\n",
       "<style scoped>\n",
       "    .dataframe tbody tr th:only-of-type {\n",
       "        vertical-align: middle;\n",
       "    }\n",
       "\n",
       "    .dataframe tbody tr th {\n",
       "        vertical-align: top;\n",
       "    }\n",
       "\n",
       "    .dataframe thead th {\n",
       "        text-align: right;\n",
       "    }\n",
       "</style>\n",
       "<table border=\"1\" class=\"dataframe\">\n",
       "  <thead>\n",
       "    <tr style=\"text-align: right;\">\n",
       "      <th></th>\n",
       "      <th>helpfulness</th>\n",
       "      <th>review code</th>\n",
       "      <th>rating code</th>\n",
       "      <th>category code</th>\n",
       "      <th>gender code</th>\n",
       "    </tr>\n",
       "  </thead>\n",
       "  <tbody>\n",
       "    <tr>\n",
       "      <th>helpfulness</th>\n",
       "      <td>1.000000</td>\n",
       "      <td>0.016170</td>\n",
       "      <td>-0.016850</td>\n",
       "      <td>-0.000189</td>\n",
       "      <td>-0.046627</td>\n",
       "    </tr>\n",
       "    <tr>\n",
       "      <th>review code</th>\n",
       "      <td>0.016170</td>\n",
       "      <td>1.000000</td>\n",
       "      <td>-0.046935</td>\n",
       "      <td>0.012047</td>\n",
       "      <td>-0.014422</td>\n",
       "    </tr>\n",
       "    <tr>\n",
       "      <th>rating code</th>\n",
       "      <td>-0.016850</td>\n",
       "      <td>-0.046935</td>\n",
       "      <td>1.000000</td>\n",
       "      <td>-0.116312</td>\n",
       "      <td>0.022576</td>\n",
       "    </tr>\n",
       "    <tr>\n",
       "      <th>category code</th>\n",
       "      <td>-0.000189</td>\n",
       "      <td>0.012047</td>\n",
       "      <td>-0.116312</td>\n",
       "      <td>1.000000</td>\n",
       "      <td>-0.017644</td>\n",
       "    </tr>\n",
       "    <tr>\n",
       "      <th>gender code</th>\n",
       "      <td>-0.046627</td>\n",
       "      <td>-0.014422</td>\n",
       "      <td>0.022576</td>\n",
       "      <td>-0.017644</td>\n",
       "      <td>1.000000</td>\n",
       "    </tr>\n",
       "  </tbody>\n",
       "</table>\n",
       "</div>"
      ],
      "text/plain": [
       "               helpfulness  review code  rating code  category code  \\\n",
       "helpfulness       1.000000     0.016170    -0.016850      -0.000189   \n",
       "review code       0.016170     1.000000    -0.046935       0.012047   \n",
       "rating code      -0.016850    -0.046935     1.000000      -0.116312   \n",
       "category code    -0.000189     0.012047    -0.116312       1.000000   \n",
       "gender code      -0.046627    -0.014422     0.022576      -0.017644   \n",
       "\n",
       "               gender code  \n",
       "helpfulness      -0.046627  \n",
       "review code      -0.014422  \n",
       "rating code       0.022576  \n",
       "category code    -0.017644  \n",
       "gender code       1.000000  "
      ]
     },
     "execution_count": 257,
     "metadata": {},
     "output_type": "execute_result"
    }
   ],
   "source": [
    "# displaying the correlation for different features in the dataframe\n",
    "# df.corr()\n",
    "\n",
    "data_frame.corr()"
   ]
  },
  {
   "cell_type": "code",
   "execution_count": 258,
   "id": "5d04f23f",
   "metadata": {},
   "outputs": [
    {
     "data": {
      "text/plain": [
       "<seaborn.axisgrid.PairGrid at 0x25b37c9b670>"
      ]
     },
     "execution_count": 258,
     "metadata": {},
     "output_type": "execute_result"
    },
    {
     "data": {
      "image/png": "[encoded data removed]",
      "text/plain": [
       "<Figure size 900x900 with 30 Axes>"
      ]
     },
     "metadata": {
      "needs_background": "light"
     },
     "output_type": "display_data"
    }
   ],
   "source": [
    "# displaying the correlatin for different features using pairplot\n",
    "\n",
    "sns.pairplot(data=data_frame)"
   ]
  },
  {
   "cell_type": "markdown",
   "id": "565c2c75",
   "metadata": {},
   "source": [
    "\n",
    "\n",
    "**Linear regression:** continuous response is modeled as a linear combination of the features:\n",
    "\n",
    "$$y = O_1x + O_2$$\n",
    "\n",
    "**Logistic regression:** log-odds of a categorical response being \"true (1)\" is modeled as a linear combination of the features:\n",
    "\n",
    "$$\\log \\left({p\\over 1-p}\\right) = O_1x + O_2$$\n",
    "\n",
    "This is called the **logit function**."
   ]
  },
  {
   "cell_type": "markdown",
   "id": "3f50c44d",
   "metadata": {},
   "source": [
    "# Split the dataset"
   ]
  },
  {
   "cell_type": "code",
   "execution_count": 259,
   "id": "0d5abe99",
   "metadata": {},
   "outputs": [],
   "source": [
    "# Spliting the data into training(80%) and testing data (20%) and using random_state=12\n",
    "\n",
    "# use any train/test(10/20/30) size \n",
    "# use the train test method to split the dataset\n",
    "train, test= train_test_split(data_frame, test_size=0.3, random_state=42)"
   ]
  },
  {
   "cell_type": "code",
   "execution_count": 260,
   "id": "6d6be8a8",
   "metadata": {},
   "outputs": [
    {
     "name": "stdout",
     "output_type": "stream",
     "text": [
      "the number of rows in training data are: 2029\n",
      "the number of columns in training data are: 9\n",
      "\n",
      "\n",
      "the number of rows in testing data are: 870\n",
      "the number of columns in testing data are: 9\n"
     ]
    }
   ],
   "source": [
    "# printing the shape/size of the dataframes after splitting the data\n",
    "\n",
    "print('the number of rows in training data are:', train.shape[0])\n",
    "print('the number of columns in training data are:', train.shape[1])\n",
    "\n",
    "print('')\n",
    "print('')\n",
    "\n",
    "print('the number of rows in testing data are:', test.shape[0])\n",
    "print('the number of columns in testing data are:', test.shape[1])"
   ]
  },
  {
   "cell_type": "markdown",
   "id": "fb7c8bb0",
   "metadata": {},
   "source": [
    "# Train and applying the Logistic Regression Model"
   ]
  },
  {
   "cell_type": "code",
   "execution_count": 262,
   "id": "f2135f16",
   "metadata": {},
   "outputs": [],
   "source": [
    "# input the data for this logistic regression model\n",
    "\n",
    "# train the model\n",
    "x_train= train[['helpfulness', 'review code', 'category code', 'gender code']]\n",
    "y_train= train['rating code']\n",
    "\n",
    "x_test= test[['helpfulness','review code', 'category code', 'gender code']]\n",
    "y_test= test['rating code']\n"
   ]
  },
  {
   "cell_type": "code",
   "execution_count": 263,
   "id": "c212adc4",
   "metadata": {},
   "outputs": [
    {
     "data": {
      "text/plain": [
       "LogisticRegression()"
      ]
     },
     "execution_count": 263,
     "metadata": {},
     "output_type": "execute_result"
    }
   ],
   "source": [
    "# Building the Logistic Regression model\n",
    "\n",
    "model= linear_model.LogisticRegression()\n",
    "\n",
    "# fit the model using .fit method\n",
    "model.fit(x_train, y_train)"
   ]
  },
  {
   "cell_type": "code",
   "execution_count": 264,
   "id": "e83a3a2e",
   "metadata": {},
   "outputs": [],
   "source": [
    "# Do predictions on test set\n",
    "\n",
    "# predict the train dataset\n",
    "train_predicted= model.predict(x_train)\n",
    "\n",
    "# predict the test dataset\n",
    "test_predicted= model.predict(x_test)"
   ]
  },
  {
   "cell_type": "markdown",
   "id": "d12e224d",
   "metadata": {},
   "source": [
    "# Logistic Regression Evaluation "
   ]
  },
  {
   "cell_type": "markdown",
   "id": "b7d37fd4",
   "metadata": {},
   "source": [
    "-  SKlearn has some useful tools, the accuracy_score function gives a score from 0-1 for the proportion correct. \n",
    "- The confusion_matrix function shows how many were classified correctly and what errors were made."
   ]
  },
  {
   "cell_type": "code",
   "execution_count": 265,
   "id": "53de2f94",
   "metadata": {},
   "outputs": [
    {
     "name": "stdout",
     "output_type": "stream",
     "text": [
      "             The accuracy_score function gives a score from 0-1 for the proportion correct\n",
      "\n",
      "The accuracy of training data is: 0.6367668802365697\n",
      "The accuracy of testing data is: 0.6252873563218391\n"
     ]
    }
   ],
   "source": [
    "# Evaluating the performance of the trained model\n",
    "print('             The accuracy_score function gives a score from 0-1 for the proportion correct')\n",
    "print('')\n",
    "\n",
    "# calculate the accuracy of the training data in the logistic regression model\n",
    "print('The accuracy of training data is:', accuracy_score(y_train, train_predicted))\n",
    "\n",
    "# calculate the accuracy of the testing data in the logistic regression model\n",
    "print('The accuracy of testing data is:', accuracy_score(y_test, test_predicted))"
   ]
  },
  {
   "cell_type": "code",
   "execution_count": 266,
   "id": "3b0c75d6",
   "metadata": {},
   "outputs": [
    {
     "name": "stdout",
     "output_type": "stream",
     "text": [
      "[[  20  708]\n",
      " [  29 1272]]\n",
      "\n",
      "[[  9 313]\n",
      " [ 13 535]]\n"
     ]
    }
   ],
   "source": [
    "# The confusion_matrix function shows how many are classified correctly and what errors were made\n",
    "\n",
    "print(confusion_matrix(y_train, train_predicted))\n",
    "\n",
    "print('')\n",
    "\n",
    "print(confusion_matrix(y_test, test_predicted))\n"
   ]
  },
  {
   "cell_type": "code",
   "execution_count": 267,
   "id": "30663748",
   "metadata": {},
   "outputs": [
    {
     "name": "stdout",
     "output_type": "stream",
     "text": [
      "                                       Training Data\n",
      "\n",
      "mean squared error of training data: 0.36323311976343026\n",
      "root mean squared error of training data: 0.6026882442552122\n"
     ]
    }
   ],
   "source": [
    "# enhanced code readability\n",
    "print('                                       Training Data')\n",
    "print('')\n",
    "\n",
    "# printing the mse and rmse for the training data\n",
    "print('mean squared error of training data:', mean_squared_error(y_train, train_predicted))\n",
    "print('root mean squared error of training data:', np.sqrt(mean_squared_error(y_train, train_predicted)))"
   ]
  },
  {
   "cell_type": "code",
   "execution_count": 268,
   "id": "743c8645",
   "metadata": {},
   "outputs": [
    {
     "name": "stdout",
     "output_type": "stream",
     "text": [
      "                                       Testing Data\n",
      "\n",
      "mean squared error of testing data: 0.37471264367816093\n",
      "root mean squared error of testing data: 0.6121377652768705\n"
     ]
    }
   ],
   "source": [
    "# enhanced code readability\n",
    "print('                                       Testing Data')\n",
    "print('')\n",
    "\n",
    "# printing the mse and rmse for the testing data\n",
    "print('mean squared error of testing data:', mean_squared_error(y_test, test_predicted))\n",
    "print('root mean squared error of testing data:', np.sqrt(mean_squared_error(y_test, test_predicted)))"
   ]
  },
  {
   "cell_type": "markdown",
   "id": "49813a5c",
   "metadata": {},
   "source": [
    "# Tune the Logistic Regression Model by feature selection"
   ]
  },
  {
   "cell_type": "markdown",
   "id": "a9d741b0",
   "metadata": {},
   "source": [
    "#### The sklearn RFE function implements Recursive Feature Estimation which removes features one by one, evaluating the model each time and selecting the best model for a target number of features. "
   ]
  },
  {
   "cell_type": "markdown",
   "id": "112ccf69",
   "metadata": {},
   "source": [
    "### Analysis of feature Selection\n",
    "\n",
    "* Build a model and need to select which features to use\n",
    "* Adding all features we have\n",
    "    * Can be harmful\n",
    "    * More features means more complex model (more parameters to estimate)\n",
    "    * Need more data to get good estimates\n",
    "    * The Curse of Dimensionality\n",
    "* Prefer to select the most useful features\n",
    "* Remove features that don't help\n"
   ]
  },
  {
   "cell_type": "code",
   "execution_count": 269,
   "id": "3fc1488d",
   "metadata": {},
   "outputs": [
    {
     "data": {
      "text/plain": [
       "RFE(estimator=LogisticRegression(), n_features_to_select=3)"
      ]
     },
     "execution_count": 269,
     "metadata": {},
     "output_type": "execute_result"
    }
   ],
   "source": [
    "# building the model\n",
    "lmodel= linear_model.LogisticRegression()\n",
    "selector= RFE(lmodel, n_features_to_select=3, step=1)\n",
    "\n",
    "# fitting the model \n",
    "selector.fit(x_train, y_train)"
   ]
  },
  {
   "cell_type": "code",
   "execution_count": 270,
   "id": "80a2a49e",
   "metadata": {},
   "outputs": [],
   "source": [
    "# predicting the model\n",
    "\n",
    "train_fpredicted= selector.predict(x_train)\n",
    "test_fpredicted= selector.predict(x_test)"
   ]
  },
  {
   "cell_type": "code",
   "execution_count": 271,
   "id": "07b8fd86",
   "metadata": {},
   "outputs": [
    {
     "name": "stdout",
     "output_type": "stream",
     "text": [
      "The accuracy of training data is: 0.6382454411039921\n",
      "The accuracy of testing data is: 0.6114942528735632\n"
     ]
    }
   ],
   "source": [
    "# calculating the accuracy\n",
    "\n",
    "print('The accuracy of training data is:', accuracy_score(y_train, train_fpredicted))\n",
    "print('The accuracy of testing data is:', accuracy_score(y_test, test_fpredicted))\n",
    "\n"
   ]
  },
  {
   "cell_type": "markdown",
   "id": "0e0c2c49",
   "metadata": {},
   "source": [
    "## Evaluating the testing data"
   ]
  },
  {
   "cell_type": "code",
   "execution_count": 272,
   "id": "8f46f3f1",
   "metadata": {},
   "outputs": [
    {
     "data": {
      "text/plain": [
       "array([1, 2, 1, 1])"
      ]
     },
     "execution_count": 272,
     "metadata": {},
     "output_type": "execute_result"
    }
   ],
   "source": [
    "\n",
    "selector.ranking_"
   ]
  },
  {
   "cell_type": "code",
   "execution_count": 273,
   "id": "9b26d3bf",
   "metadata": {},
   "outputs": [
    {
     "name": "stdout",
     "output_type": "stream",
     "text": [
      "columns:0 Ranked as: 1\n",
      "columns:1 Ranked as: 2\n",
      "columns:2 Ranked as: 1\n",
      "columns:3 Ranked as: 1\n"
     ]
    }
   ],
   "source": [
    "for i in range (x_train.shape[1]):\n",
    "    print('columns:{} Ranked as: {}'.format(i, selector.ranking_[i]))"
   ]
  },
  {
   "cell_type": "code",
   "execution_count": 274,
   "id": "c1ac7ed8",
   "metadata": {},
   "outputs": [
    {
     "name": "stdout",
     "output_type": "stream",
     "text": [
      "accuracy on the test data for feature: 1 is: 0.6298850574712643\n",
      "accuracy on the test data for feature: 2 is: 0.6298850574712643\n",
      "accuracy on the test data for feature: 3 is: 0.6114942528735632\n",
      "accuracy on the test data for feature: 4 is: 0.6252873563218391\n"
     ]
    }
   ],
   "source": [
    "# calculating the accuracy_score\n",
    "\n",
    "acc_score= []\n",
    "for i in range (1,5):\n",
    "    lmodel= linear_model.LogisticRegression()\n",
    "    selector= RFE(lmodel, n_features_to_select=i)\n",
    "    selector.fit(x_train, y_train)\n",
    "    y_pred= selector.predict(x_test)\n",
    "    acc_scores= accuracy_score(y_test, y_pred)\n",
    "    print('accuracy on the test data for feature:', i, 'is:', acc_scores)\n",
    "    acc_score.append(acc_scores)"
   ]
  },
  {
   "cell_type": "code",
   "execution_count": 275,
   "id": "58a3feff",
   "metadata": {},
   "outputs": [
    {
     "data": {
      "text/plain": [
       "[0.6298850574712643,\n",
       " 0.6298850574712643,\n",
       " 0.6114942528735632,\n",
       " 0.6252873563218391]"
      ]
     },
     "execution_count": 275,
     "metadata": {},
     "output_type": "execute_result"
    }
   ],
   "source": [
    "acc_score"
   ]
  },
  {
   "cell_type": "code",
   "execution_count": 276,
   "id": "e57f4fb4",
   "metadata": {},
   "outputs": [
    {
     "data": {
      "text/plain": [
       "Text(0.5, 1.0, 'Test Data')"
      ]
     },
     "execution_count": 276,
     "metadata": {},
     "output_type": "execute_result"
    },
    {
     "data": {
      "image/png": "[encoded data removed]",
      "text/plain": [
       "<Figure size 432x288 with 1 Axes>"
      ]
     },
     "metadata": {
      "needs_background": "light"
     },
     "output_type": "display_data"
    }
   ],
   "source": [
    "\n",
    "\n",
    "plt.plot(acc_score, marker='o', color='red')\n",
    "plt.title('Test Data')"
   ]
  },
  {
   "cell_type": "markdown",
   "id": "5e0ede55",
   "metadata": {},
   "source": [
    "### Analysis of Recursive Feature Elimination\n",
    "\n",
    "* To find the best features, eliminate the least useful features one by one\n",
    "* Train a model on all features\n",
    "* Choose the least important feature, eliminate it \n",
    "* Repeat training on samller set of features\n",
    "* Until we have the target number of features\n"
   ]
  },
  {
   "cell_type": "markdown",
   "id": "9ca7ca12",
   "metadata": {},
   "source": [
    "## Evaluating the training data"
   ]
  },
  {
   "cell_type": "code",
   "execution_count": 277,
   "id": "2b8de0ed",
   "metadata": {},
   "outputs": [
    {
     "name": "stdout",
     "output_type": "stream",
     "text": [
      "accuracy on the test data for feature: 1 is: 0.6412025628388369\n",
      "accuracy on the test data for feature: 2 is: 0.6412025628388369\n",
      "accuracy on the test data for feature: 3 is: 0.6382454411039921\n",
      "accuracy on the test data for feature: 4 is: 0.6367668802365697\n"
     ]
    }
   ],
   "source": [
    "# calculating the accuracy_score for training data\n",
    "\n",
    "acc_score= []\n",
    "for i in range (1,5):\n",
    "    lmodel= linear_model.LogisticRegression()\n",
    "    selector= RFE(lmodel, n_features_to_select=i)\n",
    "    selector.fit(x_train, y_train)\n",
    "    y_pred= selector.predict(x_train)\n",
    "    acc_scores= accuracy_score(y_train, y_pred)\n",
    "    print('accuracy on the test data for feature:', i, 'is:', acc_scores)\n",
    "    acc_score.append(acc_scores)"
   ]
  },
  {
   "cell_type": "code",
   "execution_count": 278,
   "id": "a17494d9",
   "metadata": {},
   "outputs": [
    {
     "data": {
      "text/plain": [
       "[0.6412025628388369,\n",
       " 0.6412025628388369,\n",
       " 0.6382454411039921,\n",
       " 0.6367668802365697]"
      ]
     },
     "execution_count": 278,
     "metadata": {},
     "output_type": "execute_result"
    }
   ],
   "source": [
    "acc_score"
   ]
  },
  {
   "cell_type": "code",
   "execution_count": 279,
   "id": "cf9f3be7",
   "metadata": {},
   "outputs": [
    {
     "data": {
      "text/plain": [
       "Text(0.5, 1.0, 'Training Data')"
      ]
     },
     "execution_count": 279,
     "metadata": {},
     "output_type": "execute_result"
    },
    {
     "data": {
      "image/png": "[encoded data removed]",
      "text/plain": [
       "<Figure size 432x288 with 1 Axes>"
      ]
     },
     "metadata": {
      "needs_background": "light"
     },
     "output_type": "display_data"
    }
   ],
   "source": [
    "\n",
    "\n",
    "plt.plot(acc_score, marker='o', color='red')\n",
    "plt.title('Training Data')"
   ]
  },
  {
   "cell_type": "markdown",
   "id": "f487c9ec",
   "metadata": {},
   "source": [
    "## Analysis of Regression Models \n",
    "\n",
    "- Fit a linear model to a set of data to predict an outcome\n",
    "- Linear Regression for continuous variables\n",
    "- Logistic Regression for categorical variables\n",
    "- Model coefficients are obtained analytically (via a formula)\n",
    "- Model is highly interpretable\n",
    "- Can perform well with a small number of observations\n",
    "- Can use multiple input variables\n",
    "- Assumes a linear relationship\n",
    "- Assumes features are independant\n",
    "\n",
    "\n"
   ]
  },
  {
   "cell_type": "markdown",
   "id": "529342e9",
   "metadata": {},
   "source": [
    "# KNN MODEL"
   ]
  },
  {
   "cell_type": "code",
   "execution_count": 280,
   "id": "bc60bc22",
   "metadata": {
    "scrolled": true
   },
   "outputs": [
    {
     "data": {
      "text/html": [
       "<div>\n",
       "<style scoped>\n",
       "    .dataframe tbody tr th:only-of-type {\n",
       "        vertical-align: middle;\n",
       "    }\n",
       "\n",
       "    .dataframe tbody tr th {\n",
       "        vertical-align: top;\n",
       "    }\n",
       "\n",
       "    .dataframe thead th {\n",
       "        text-align: right;\n",
       "    }\n",
       "</style>\n",
       "<table border=\"1\" class=\"dataframe\">\n",
       "  <thead>\n",
       "    <tr style=\"text-align: right;\">\n",
       "      <th></th>\n",
       "      <th>review</th>\n",
       "      <th>rating</th>\n",
       "      <th>helpfulness</th>\n",
       "      <th>gender</th>\n",
       "      <th>category</th>\n",
       "      <th>review code</th>\n",
       "      <th>rating code</th>\n",
       "      <th>category code</th>\n",
       "      <th>gender code</th>\n",
       "    </tr>\n",
       "  </thead>\n",
       "  <tbody>\n",
       "    <tr>\n",
       "      <th>0</th>\n",
       "      <td>Finally, Something for (Relatively) Nothing</td>\n",
       "      <td>like</td>\n",
       "      <td>4</td>\n",
       "      <td>F</td>\n",
       "      <td>Online Stores &amp; Services</td>\n",
       "      <td>856.0</td>\n",
       "      <td>1.0</td>\n",
       "      <td>6.0</td>\n",
       "      <td>0.0</td>\n",
       "    </tr>\n",
       "    <tr>\n",
       "      <th>1</th>\n",
       "      <td>Shocking!</td>\n",
       "      <td>like</td>\n",
       "      <td>4</td>\n",
       "      <td>F</td>\n",
       "      <td>Movies</td>\n",
       "      <td>1985.0</td>\n",
       "      <td>1.0</td>\n",
       "      <td>5.0</td>\n",
       "      <td>0.0</td>\n",
       "    </tr>\n",
       "    <tr>\n",
       "      <th>2</th>\n",
       "      <td>Simply Shaggadelic!</td>\n",
       "      <td>like</td>\n",
       "      <td>4</td>\n",
       "      <td>F</td>\n",
       "      <td>Movies</td>\n",
       "      <td>2006.0</td>\n",
       "      <td>1.0</td>\n",
       "      <td>5.0</td>\n",
       "      <td>0.0</td>\n",
       "    </tr>\n",
       "    <tr>\n",
       "      <th>3</th>\n",
       "      <td>Better Than The First!</td>\n",
       "      <td>like</td>\n",
       "      <td>3</td>\n",
       "      <td>F</td>\n",
       "      <td>Movies</td>\n",
       "      <td>472.0</td>\n",
       "      <td>1.0</td>\n",
       "      <td>5.0</td>\n",
       "      <td>0.0</td>\n",
       "    </tr>\n",
       "    <tr>\n",
       "      <th>4</th>\n",
       "      <td>Blair Witch made me appreciate this</td>\n",
       "      <td>dislike</td>\n",
       "      <td>4</td>\n",
       "      <td>F</td>\n",
       "      <td>Movies</td>\n",
       "      <td>493.0</td>\n",
       "      <td>0.0</td>\n",
       "      <td>5.0</td>\n",
       "      <td>0.0</td>\n",
       "    </tr>\n",
       "    <tr>\n",
       "      <th>...</th>\n",
       "      <td>...</td>\n",
       "      <td>...</td>\n",
       "      <td>...</td>\n",
       "      <td>...</td>\n",
       "      <td>...</td>\n",
       "      <td>...</td>\n",
       "      <td>...</td>\n",
       "      <td>...</td>\n",
       "      <td>...</td>\n",
       "    </tr>\n",
       "    <tr>\n",
       "      <th>2894</th>\n",
       "      <td>I dare you to sleep through this soon to be cl...</td>\n",
       "      <td>like</td>\n",
       "      <td>4</td>\n",
       "      <td>F</td>\n",
       "      <td>Movies</td>\n",
       "      <td>1221.0</td>\n",
       "      <td>1.0</td>\n",
       "      <td>5.0</td>\n",
       "      <td>0.0</td>\n",
       "    </tr>\n",
       "    <tr>\n",
       "      <th>2895</th>\n",
       "      <td>Another movie to keep us out of the water!!!!</td>\n",
       "      <td>like</td>\n",
       "      <td>3</td>\n",
       "      <td>F</td>\n",
       "      <td>Movies</td>\n",
       "      <td>379.0</td>\n",
       "      <td>1.0</td>\n",
       "      <td>5.0</td>\n",
       "      <td>0.0</td>\n",
       "    </tr>\n",
       "    <tr>\n",
       "      <th>2896</th>\n",
       "      <td>Miles above other films.</td>\n",
       "      <td>like</td>\n",
       "      <td>4</td>\n",
       "      <td>F</td>\n",
       "      <td>Movies</td>\n",
       "      <td>1546.0</td>\n",
       "      <td>1.0</td>\n",
       "      <td>5.0</td>\n",
       "      <td>0.0</td>\n",
       "    </tr>\n",
       "    <tr>\n",
       "      <th>2897</th>\n",
       "      <td>This could be the beginning of a comedy era.</td>\n",
       "      <td>dislike</td>\n",
       "      <td>4</td>\n",
       "      <td>F</td>\n",
       "      <td>Movies</td>\n",
       "      <td>2431.0</td>\n",
       "      <td>0.0</td>\n",
       "      <td>5.0</td>\n",
       "      <td>0.0</td>\n",
       "    </tr>\n",
       "    <tr>\n",
       "      <th>2898</th>\n",
       "      <td>Maybe it should have been cut?</td>\n",
       "      <td>dislike</td>\n",
       "      <td>4</td>\n",
       "      <td>F</td>\n",
       "      <td>Movies</td>\n",
       "      <td>1519.0</td>\n",
       "      <td>0.0</td>\n",
       "      <td>5.0</td>\n",
       "      <td>0.0</td>\n",
       "    </tr>\n",
       "  </tbody>\n",
       "</table>\n",
       "<p>2899 rows × 9 columns</p>\n",
       "</div>"
      ],
      "text/plain": [
       "                                                 review   rating  helpfulness  \\\n",
       "0           Finally, Something for (Relatively) Nothing     like            4   \n",
       "1                                             Shocking!     like            4   \n",
       "2                                   Simply Shaggadelic!     like            4   \n",
       "3                                Better Than The First!     like            3   \n",
       "4                   Blair Witch made me appreciate this  dislike            4   \n",
       "...                                                 ...      ...          ...   \n",
       "2894  I dare you to sleep through this soon to be cl...     like            4   \n",
       "2895      Another movie to keep us out of the water!!!!     like            3   \n",
       "2896                           Miles above other films.     like            4   \n",
       "2897       This could be the beginning of a comedy era.  dislike            4   \n",
       "2898                     Maybe it should have been cut?  dislike            4   \n",
       "\n",
       "     gender                  category  review code  rating code  \\\n",
       "0         F  Online Stores & Services        856.0          1.0   \n",
       "1         F                    Movies       1985.0          1.0   \n",
       "2         F                    Movies       2006.0          1.0   \n",
       "3         F                    Movies        472.0          1.0   \n",
       "4         F                    Movies        493.0          0.0   \n",
       "...     ...                       ...          ...          ...   \n",
       "2894      F                    Movies       1221.0          1.0   \n",
       "2895      F                    Movies        379.0          1.0   \n",
       "2896      F                    Movies       1546.0          1.0   \n",
       "2897      F                    Movies       2431.0          0.0   \n",
       "2898      F                    Movies       1519.0          0.0   \n",
       "\n",
       "      category code  gender code  \n",
       "0               6.0          0.0  \n",
       "1               5.0          0.0  \n",
       "2               5.0          0.0  \n",
       "3               5.0          0.0  \n",
       "4               5.0          0.0  \n",
       "...             ...          ...  \n",
       "2894            5.0          0.0  \n",
       "2895            5.0          0.0  \n",
       "2896            5.0          0.0  \n",
       "2897            5.0          0.0  \n",
       "2898            5.0          0.0  \n",
       "\n",
       "[2899 rows x 9 columns]"
      ]
     },
     "execution_count": 280,
     "metadata": {},
     "output_type": "execute_result"
    }
   ],
   "source": [
    "# a look at the data_frame\n",
    "# shape of the data_frame\n",
    "\n",
    "data_frame"
   ]
  },
  {
   "cell_type": "code",
   "execution_count": 281,
   "id": "b720e969",
   "metadata": {},
   "outputs": [],
   "source": [
    "# splitting the dataset into 30% test size with random_state 42\n",
    "# Only a subset of the available data is used for training\n",
    "# Only a subset of the available data is used for testing\n",
    "\n",
    "train, test= train_test_split(data_frame, test_size=0.3, random_state=42)"
   ]
  },
  {
   "cell_type": "code",
   "execution_count": 282,
   "id": "faf95376",
   "metadata": {},
   "outputs": [
    {
     "name": "stdout",
     "output_type": "stream",
     "text": [
      "Testing accuracy is:  0.5816091954022988\n"
     ]
    }
   ],
   "source": [
    "# training the model for knn\n",
    "#knn = KNeighborsClassifier(n_neighbors=6)\n",
    "\n",
    "\n",
    "# Create and training a KNN classifier model\n",
    "clf = KNeighborsClassifier(n_neighbors = 6)\n",
    "\n",
    "#fitting the model using clf.fit(xtrain, ytrain)\n",
    "clf.fit(x_train, y_train)\n",
    "\n",
    "# Use the model to predict testing data\n",
    "y_pred = clf.predict(x_test)\n",
    "accuracy = accuracy_score(y_pred, y_test)\n",
    "print('Testing accuracy is: ', accuracy)"
   ]
  },
  {
   "cell_type": "code",
   "execution_count": 287,
   "id": "944f16fb",
   "metadata": {},
   "outputs": [
    {
     "data": {
      "image/png": "[encoded data removed]",
      "text/plain": [
       "<Figure size 432x288 with 1 Axes>"
      ]
     },
     "metadata": {
      "needs_background": "light"
     },
     "output_type": "display_data"
    }
   ],
   "source": [
    "# Plot the accurcy trend \n",
    "training_error=list()\n",
    "testing_error=list()\n",
    "\n",
    "for i in range(4, 65):\n",
    "    clf = KNeighborsClassifier(n_neighbors = i)\n",
    "    clf.fit(x_train, y_train)\n",
    "    training_error.append(1.0-accuracy_score(clf.predict(x_train), y_train))\n",
    "    testing_error.append(1.0-accuracy_score(clf.predict(x_test), y_test))\n",
    "\n",
    "# Plot the relationship\n",
    "plt.plot(range(4, 65), training_error, marker='x', label='Training Error')\n",
    "plt.plot(range(4, 65), testing_error, marker='o', label='Testing Error')\n",
    "plt.xlabel('K')\n",
    "plt.ylabel('Error')\n",
    "plt.legend(loc='best')\n",
    "plt.show()"
   ]
  },
  {
   "cell_type": "markdown",
   "id": "1b37a413",
   "metadata": {},
   "source": [
    "# Hyper-parameter K in KNN"
   ]
  },
  {
   "cell_type": "markdown",
   "id": "669c0ca2",
   "metadata": {},
   "source": [
    "### Analysis\n",
    "- Cross-validation is widely used approach for estimating test error.\n",
    "- Estimates can be used to select best model, and to give an idea of the test error of the final chosen model.\n",
    "- Idea is to randomly divide the data into 𝑘 equal-sized parts. We leave out one part, fit the model to the other 𝑘 − 1 parts (combined), and then obtain predictions for the left-out part.\n",
    "- This is done in turn for each part 1, 2, . . . 𝑘, and then the results are combined."
   ]
  },
  {
   "cell_type": "code",
   "execution_count": 291,
   "id": "108e2a4a",
   "metadata": {},
   "outputs": [
    {
     "name": "stdout",
     "output_type": "stream",
     "text": [
      "Accuracy for each round: \n",
      " [0.6 0.7 0.8 0.7 0.5]\n",
      "Average accuracy: 0.6600 +- 0.1020\n"
     ]
    }
   ],
   "source": [
    "# Create a KNN classifier model and use k-fold cross validation for testing accuracy estimation\n",
    "# train the model\n",
    "\n",
    "clf = KNeighborsClassifier(n_neighbors = 6)\n",
    "scores = cross_val_score(clf, X, y, cv=5)\n",
    "print('Accuracy for each round: \\n', scores)\n",
    "print('Average accuracy: %.4f +- %.4f' % (scores.mean(), scores.std()))"
   ]
  },
  {
   "cell_type": "code",
   "execution_count": 292,
   "id": "3236bcaf",
   "metadata": {},
   "outputs": [
    {
     "name": "stdout",
     "output_type": "stream",
     "text": [
      "Best K value:  4\n",
      "The accuracy:  0.68\n"
     ]
    }
   ],
   "source": [
    "# Define search space for parameters\n",
    "# parameters= {n_neighbours : range(4,65)}\n",
    "parameter_grid = {'n_neighbors': range(4, 65)}\n",
    "\n",
    "# Create the machine learning model\n",
    "knn_clf= KNeighborsClassifier()\n",
    "clf= GridSearchCV(knn_clf, parameter_grid, scoring='accuracy', cv=5)\n",
    "clf.fit(X, y)\n",
    "\n",
    "# Identify the best parameter(s)\n",
    "# calculate the accuracy_score\n",
    "print('Best K value: ', clf.best_params_['n_neighbors'])\n",
    "print('The accuracy: ', clf.best_score_)"
   ]
  },
  {
   "cell_type": "markdown",
   "id": "b049f977",
   "metadata": {},
   "source": [
    "## Analysis\n",
    "\n",
    "KNN is a supervised learning algorithm for classification and also possible for regression. For KNN, overfitting occurs if K is too small. The accuracy reported here is 0.68 and the best K-value is 4."
   ]
  }
 ],
 "metadata": {
  "kernelspec": {
   "display_name": "Python 3 (ipykernel)",
   "language": "python",
   "name": "python3"
  },
  "language_info": {
   "codemirror_mode": {
    "name": "ipython",
    "version": 3
   },
   "file_extension": ".py",
   "mimetype": "text/x-python",
   "name": "python",
   "nbconvert_exporter": "python",
   "pygments_lexer": "ipython3",
   "version": "3.9.12"
  }
 },
 "nbformat": 4,
 "nbformat_minor": 5
}
